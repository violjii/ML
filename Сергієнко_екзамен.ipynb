{
  "nbformat": 4,
  "nbformat_minor": 0,
  "metadata": {
    "colab": {
      "provenance": [],
      "authorship_tag": "ABX9TyNiP5djMfdLn/C3fgsv1q7H",
      "include_colab_link": true
    },
    "kernelspec": {
      "name": "python3",
      "display_name": "Python 3"
    },
    "language_info": {
      "name": "python"
    }
  },
  "cells": [
    {
      "cell_type": "markdown",
      "metadata": {
        "id": "view-in-github",
        "colab_type": "text"
      },
      "source": [
        "<a href=\"https://colab.research.google.com/github/violjii/ML/blob/main/%D0%A1%D0%B5%D1%80%D0%B3%D1%96%D1%94%D0%BD%D0%BA%D0%BE_%D0%B5%D0%BA%D0%B7%D0%B0%D0%BC%D0%B5%D0%BD.ipynb\" target=\"_parent\"><img src=\"https://colab.research.google.com/assets/colab-badge.svg\" alt=\"Open In Colab\"/></a>"
      ]
    },
    {
      "cell_type": "code",
      "execution_count": 1,
      "metadata": {
        "colab": {
          "base_uri": "https://localhost:8080/"
        },
        "id": "AIE_G75pMG9Q",
        "outputId": "f6049ee0-e8a6-4429-ba96-5dfb0f265b3e"
      },
      "outputs": [
        {
          "output_type": "stream",
          "name": "stdout",
          "text": [
            "Початковий масив:\n",
            "[[0.25411856 0.72782845 0.35068526 0.71783651 0.5621554 ]\n",
            " [0.34277281 0.636772   0.1758805  0.29076781 0.50775154]\n",
            " [0.13742259 0.06341982 0.49441149 0.69110613 0.36210734]\n",
            " [0.05548494 0.47923385 0.87782876 0.06389714 0.34394551]\n",
            " [0.23882704 0.32869856 0.58581612 0.63774879 0.53637364]]\n",
            "\n",
            "Масив з квадратними коренями:\n",
            "[[0.50410174 0.85312863 0.59218685 0.84725233 0.74977023]\n",
            " [0.58546802 0.79797995 0.41938109 0.5392289  0.71256686]\n",
            " [0.37070553 0.25183292 0.70314401 0.83132793 0.60175355]\n",
            " [0.23555242 0.69226718 0.93692516 0.25277884 0.58646868]\n",
            " [0.48869934 0.57332239 0.76538625 0.79859175 0.73237534]]\n"
          ]
        }
      ],
      "source": [
        "import numpy as np\n",
        "\n",
        "# Створюємо масив розміром 5x5 з випадковими значеннями від 0 до 1\n",
        "array = np.random.rand(5, 5)\n",
        "\n",
        "# Обчислюємо квадратний корінь з кожного елемента масиву\n",
        "sqrt_array = np.sqrt(array)\n",
        "\n",
        "# Виводимо початковий масив і масив з квадратними коренями\n",
        "print(\"Початковий масив:\")\n",
        "print(array)\n",
        "print(\"\\nМасив з квадратними коренями:\")\n",
        "print(sqrt_array)\n"
      ]
    }
  ]
}