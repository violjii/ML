{
  "nbformat": 4,
  "nbformat_minor": 0,
  "metadata": {
    "colab": {
      "provenance": [],
      "authorship_tag": "ABX9TyOokj3ykcdCwpXr0b07BnRV",
      "include_colab_link": true
    },
    "kernelspec": {
      "name": "python3",
      "display_name": "Python 3"
    },
    "language_info": {
      "name": "python"
    }
  },
  "cells": [
    {
      "cell_type": "markdown",
      "metadata": {
        "id": "view-in-github",
        "colab_type": "text"
      },
      "source": [
        "<a href=\"https://colab.research.google.com/github/violjii/ML/blob/main/Serhiienko_26_5_1_FIT_3_4.ipynb\" target=\"_parent\"><img src=\"https://colab.research.google.com/assets/colab-badge.svg\" alt=\"Open In Colab\"/></a>"
      ]
    },
    {
      "cell_type": "code",
      "execution_count": null,
      "metadata": {
        "id": "rP-PG5YpynKe"
      },
      "outputs": [],
      "source": [
        "# Імпорт необхідних бібліотек\n",
        "import pandas as pd\n",
        "import seaborn as sns\n",
        "import matplotlib.pyplot as plt\n",
        "from sklearn.cluster import KMeans\n",
        "from sklearn.metrics import silhouette_score\n",
        "\n",
        "# Завантаження датасету Ірис\n",
        "iris = sns.load_dataset('iris')\n",
        "\n",
        "# 1. Вивести перших 5 рядків\n",
        "print(\"Перші 5 рядків датасету Ірис:\")\n",
        "print(iris.head())\n",
        "\n",
        "# 2. Метод ліктя для визначення оптимальної кількості кластерів\n",
        "inertia = []\n",
        "silhouette_scores = []\n",
        "\n",
        "# Перебір кількості кластерів від 2 до 10\n",
        "for k in range(2, 11):\n",
        "    kmeans = KMeans(n_clusters=k, random_state=42)\n",
        "    kmeans.fit(iris.iloc[:, :-1])  # Використовуємо всі ознаки, крім цільової\n",
        "    inertia.append(kmeans.inertia_)\n",
        "    silhouette_scores.append(silhouette_score(iris.iloc[:, :-1], kmeans.labels_))\n",
        "\n",
        "# Візуалізація методу ліктя\n",
        "plt.figure(figsize=(12, 6))\n",
        "plt.subplot(1, 2, 1)\n",
        "plt.plot(range(2, 11), inertia, marker='o')\n",
        "plt.title('Метод ліктя')\n",
        "plt.xlabel('Кількість кластерів')\n",
        "plt.ylabel('Інерція')\n",
        "\n",
        "# Візуалізація методу силуетів\n",
        "plt.subplot(1, 2, 2)\n",
        "plt.plot(range(2, 11), silhouette_scores, marker='o')\n",
        "plt.title('Метод силуетів')\n",
        "plt.xlabel('Кількість кластерів')\n",
        "plt.ylabel('Силует')\n",
        "\n",
        "plt.show()\n",
        "\n",
        "# Визначення оптимальної кількості кластерів (на основі графіків)\n",
        "optimal_k = silhouette_scores.index(max(silhouette_scores)) + 2\n",
        "print(f\"Оптимальна кількість кластерів (метод силуетів): {optimal_k}\")\n",
        "\n",
        "# 3. Візуалізація кластерів з оптимальною кількістю кластерів\n",
        "kmeans_optimal = KMeans(n_clusters=optimal_k, random_state=42)\n",
        "iris['Cluster'] = kmeans_optimal.fit_predict(iris.iloc[:, :-1])\n",
        "\n",
        "plt.figure(figsize=(10, 6))\n",
        "sns.scatterplot(data=iris, x='sepal_length', y='sepal_width', hue='Cluster', palette='Set2')\n",
        "plt.title('Кластери Ірисів')\n",
        "plt.xlabel('Довжина чашолистка')\n",
        "plt.ylabel('Ширина чашолистка')\n",
        "plt.legend()\n",
        "plt.show()\n",
        "\n",
        "# Висновки\n",
        "print(\"Висновки:\")\n",
        "print(\"Оптимальна кількість кластерів визначена методом силуетів. Візуалізація показує, що дані кластеризуються, причому кожен кластер представлений різними кольорами.\")\n"
      ]
    }
  ]
}