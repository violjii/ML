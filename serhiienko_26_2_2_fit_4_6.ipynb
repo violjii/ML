{
  "nbformat": 4,
  "nbformat_minor": 0,
  "metadata": {
    "colab": {
      "provenance": [],
      "authorship_tag": "ABX9TyOhRWy4U50HuLuUyYc7BYSf",
      "include_colab_link": true
    },
    "kernelspec": {
      "name": "python3",
      "display_name": "Python 3"
    },
    "language_info": {
      "name": "python"
    }
  },
  "cells": [
    {
      "cell_type": "markdown",
      "metadata": {
        "id": "view-in-github",
        "colab_type": "text"
      },
      "source": [
        "<a href=\"https://colab.research.google.com/github/violjii/ML/blob/main/serhiienko_26_2_2_fit_4_6.ipynb\" target=\"_parent\"><img src=\"https://colab.research.google.com/assets/colab-badge.svg\" alt=\"Open In Colab\"/></a>"
      ]
    },
    {
      "cell_type": "code",
      "execution_count": null,
      "metadata": {
        "id": "3ugimqgdvDQz"
      },
      "outputs": [],
      "source": [
        "# 1. Завантажити датасет\n",
        "titanic_data = pd.read_csv('titanic.csv')\n",
        "\n",
        "# 2. Вивести перші 5 рядків\n",
        "print(titanic_data.head())\n",
        "\n",
        "# 3. Визначити розмір датасету\n",
        "print(titanic_data.shape)\n",
        "\n",
        "# 4. Визначити тип даних\n",
        "print(titanic_data.dtypes)\n",
        "\n",
        "# 5. Перевірка пропущених значень і заміна на середнє\n",
        "titanic_data.fillna(titanic_data.mean(), inplace=True)\n",
        "\n",
        "# 6. Перевірка наявності дублікатів\n",
        "titanic_data.drop_duplicates(inplace=True)\n",
        "\n",
        "# 7. Описова статистика\n",
        "print(titanic_data.describe())\n",
        "\n",
        "# 8. Видалення стовпця Cabin\n",
        "titanic_data.drop(columns=['Cabin'], inplace=True)\n",
        "\n",
        "# 9. Сформувати датасет з обраними стовпцями\n",
        "titanic_subset = titanic_data[['Survived', 'Pclass', 'Sex', 'Age', 'Fare']]\n",
        "\n",
        "# 10. Замінити бінарні ознаки статі\n",
        "titanic_subset['Sex'] = titanic_subset['Sex'].map({'male': 0, 'female': 1})\n",
        "\n",
        "# 11. Перевірка пропущених значень\n",
        "print(titanic_subset.isna().sum())\n",
        "\n",
        "\n"
      ]
    }
  ]
}