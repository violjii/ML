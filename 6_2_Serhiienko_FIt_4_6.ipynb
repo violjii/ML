{
  "nbformat": 4,
  "nbformat_minor": 0,
  "metadata": {
    "colab": {
      "provenance": [],
      "authorship_tag": "ABX9TyPMsh0iwIcmr1MVvSb3USGx",
      "include_colab_link": true
    },
    "kernelspec": {
      "name": "python3",
      "display_name": "Python 3"
    },
    "language_info": {
      "name": "python"
    }
  },
  "cells": [
    {
      "cell_type": "markdown",
      "metadata": {
        "id": "view-in-github",
        "colab_type": "text"
      },
      "source": [
        "<a href=\"https://colab.research.google.com/github/violjii/ML/blob/main/6_2_Serhiienko_FIt_4_6.ipynb\" target=\"_parent\"><img src=\"https://colab.research.google.com/assets/colab-badge.svg\" alt=\"Open In Colab\"/></a>"
      ]
    },
    {
      "cell_type": "code",
      "execution_count": null,
      "metadata": {
        "id": "rxHX9Q0AyhI6"
      },
      "outputs": [],
      "source": [
        "\n",
        "import numpy as np\n",
        "from sklearn.datasets import load_iris\n",
        "from sklearn.cluster import KMeans\n",
        "import matplotlib.pyplot as plt\n",
        "\n",
        "# 1. Завантаження даних Iris\n",
        "iris = load_iris()\n",
        "X = iris.data\n",
        "\n",
        "# 2. Метод ліктя для визначення оптимальної кількості кластерів\n",
        "inertia = []\n",
        "K = range(1, 10)\n",
        "for k in K:\n",
        "    kmeans = KMeans(n_clusters=k, random_state=42)\n",
        "    kmeans.fit(X)\n",
        "    inertia.append(kmeans.inertia_)\n",
        "\n",
        "# Візуалізація методу ліктя\n",
        "plt.plot(K, inertia, 'bx-')\n",
        "plt.xlabel('Кількість кластерів')\n",
        "plt.ylabel('Інерція')\n",
        "plt.title('Метод ліктя для оптимального k')\n",
        "plt.show()\n",
        "\n",
        "# 3. Кластеризація даних з оптимальною кількістю кластерів\n",
        "optimal_k = 3\n",
        "kmeans = KMeans(n_clusters=optimal_k, random_state=42)\n",
        "clusters = kmeans.fit_predict(X)\n",
        "\n",
        "# Візуалізація кластерів\n",
        "plt.scatter(X[:, 0], X[:, 1], c=clusters, cmap='viridis')\n",
        "plt.xlabel('Ознака 1')\n",
        "plt.ylabel('Ознака 2')\n",
        "plt.title('Кластеризація методом KMeans')\n",
        "plt.show()"
      ]
    }
  ]
}