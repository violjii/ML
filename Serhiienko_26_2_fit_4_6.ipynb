{
  "nbformat": 4,
  "nbformat_minor": 0,
  "metadata": {
    "colab": {
      "provenance": [],
      "authorship_tag": "ABX9TyO/cUyMBPMNmjr5nUplmYVd",
      "include_colab_link": true
    },
    "kernelspec": {
      "name": "python3",
      "display_name": "Python 3"
    },
    "language_info": {
      "name": "python"
    }
  },
  "cells": [
    {
      "cell_type": "markdown",
      "metadata": {
        "id": "view-in-github",
        "colab_type": "text"
      },
      "source": [
        "<a href=\"https://colab.research.google.com/github/violjii/ML/blob/main/Serhiienko_26_2_fit_4_6.ipynb\" target=\"_parent\"><img src=\"https://colab.research.google.com/assets/colab-badge.svg\" alt=\"Open In Colab\"/></a>"
      ]
    },
    {
      "cell_type": "code",
      "execution_count": null,
      "metadata": {
        "id": "-3Plja16uOQ2"
      },
      "outputs": [],
      "source": [
        "import pandas as pd\n",
        "import numpy as np\n",
        "\n",
        "# 1. Зчитати датасет з Вікіпедії\n",
        "url = 'https://en.wikipedia.org/wiki/List_of_countries_by_GDP_(nominal)'\n",
        "tables = pd.read_html(url)\n",
        "gdp_data = tables[1]  # вибір правильної таблиці (залежить від структури сторінки)\n",
        "\n",
        "# 2. Вивести перші 5 рядків\n",
        "print(gdp_data.head())\n",
        "\n",
        "# 3. Визначити розмір датасету\n",
        "print(gdp_data.shape)\n",
        "\n",
        "# 4. Змінити назви стовпців на більш зручні\n",
        "gdp_data.columns = ['Country', 'MVF_2024', 'WorldBank_2023', 'OON_2022']\n",
        "\n",
        "# 5. Визначити тип даних\n",
        "print(gdp_data.dtypes)\n",
        "\n",
        "# 6. Замінити значення '—' на NaN та обробити пропущені дані\n",
        "gdp_data.replace('—', np.nan, inplace=True)\n",
        "gdp_data.fillna(gdp_data.mean(), inplace=True)\n",
        "\n",
        "# 7. Перевірити наявність пропущених значень\n",
        "print(gdp_data.isna().sum())\n",
        "\n",
        "# 8. Перевірка наявності дублікатів\n",
        "gdp_data.drop_duplicates(inplace=True)\n",
        "\n",
        "# 9. Описова статистика\n",
        "print(gdp_data.describe())\n",
        "\n",
        "# 10. Визначення відхилення між MVF_2024 та WorldBank_2023\n",
        "gdp_data['Difference'] = gdp_data['MVF_2024'] - gdp_data['WorldBank_2023']\n",
        "print(gdp_data[gdp_data['Difference'].abs().idxmax()])\n"
      ]
    },
    {
      "cell_type": "code",
      "source": [],
      "metadata": {
        "id": "hUQoiVCduxZW"
      },
      "execution_count": null,
      "outputs": []
    }
  ]
}