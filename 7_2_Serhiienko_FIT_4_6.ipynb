{
  "nbformat": 4,
  "nbformat_minor": 0,
  "metadata": {
    "colab": {
      "provenance": [],
      "authorship_tag": "ABX9TyO3ptUrT/qwlE2AMX0446vF",
      "include_colab_link": true
    },
    "kernelspec": {
      "name": "python3",
      "display_name": "Python 3"
    },
    "language_info": {
      "name": "python"
    }
  },
  "cells": [
    {
      "cell_type": "markdown",
      "metadata": {
        "id": "view-in-github",
        "colab_type": "text"
      },
      "source": [
        "<a href=\"https://colab.research.google.com/github/violjii/ML/blob/main/7_2_Serhiienko_FIT_4_6.ipynb\" target=\"_parent\"><img src=\"https://colab.research.google.com/assets/colab-badge.svg\" alt=\"Open In Colab\"/></a>"
      ]
    },
    {
      "cell_type": "code",
      "execution_count": null,
      "metadata": {
        "id": "nia0_-uL1HDf"
      },
      "outputs": [],
      "source": [
        "import pandas as pd\n",
        "from surprise import Dataset, Reader\n",
        "from surprise.model_selection import train_test_split\n",
        "from surprise import KNNBasic\n",
        "from surprise import accuracy\n",
        "\n",
        "# 1. Побудова власної рекомендаційної системи\n",
        "# Приклад створення кастомного датасету\n",
        "ratings_dict = {\n",
        "    'itemID': [1, 1, 1, 2, 2],\n",
        "    'userID': [9, 32, 2, 45, 3],\n",
        "    'rating': [3, 2, 4, 5, 1],\n",
        "}\n",
        "df = pd.DataFrame(ratings_dict)\n",
        "\n",
        "reader = Reader(rating_scale=(1, 5))\n",
        "data = Dataset.load_from_df(df[['userID', 'itemID', 'rating']], reader)\n",
        "trainset, testset = train_test_split(data, test_size=0.25)\n",
        "\n",
        "# Вибір алгоритму\n",
        "algo = KNNBasic()\n",
        "\n",
        "# Навчання моделі\n",
        "algo.fit(trainset)\n",
        "\n",
        "# Оцінка на тестових даних\n",
        "predictions = algo.test(testset)\n",
        "accuracy.mae(predictions)\n",
        "\n",
        "# 2. Отримання рекомендацій для конкретного користувача\n",
        "user_id = 9  # Приклад користувача\n",
        "item_ids = [1, 2]  # ID елементів (наприклад, фільмів)\n",
        "for item_id in item_ids:\n",
        "    pred = algo.predict(user_id, item_id)\n",
        "    print(f\"Прогноз для користувача {user_id} та фільму {item_id}: {pred.est}\")\n",
        "\n",
        "# Висновки:\n",
        "# Система надає персоналізовані рекомендації на основі алгоритму KNN.\n",
        "# Алгоритм показує адекватну точність на тестовій вибірці.\n"
      ]
    }
  ]
}