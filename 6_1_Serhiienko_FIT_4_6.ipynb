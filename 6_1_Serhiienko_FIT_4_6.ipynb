{
  "nbformat": 4,
  "nbformat_minor": 0,
  "metadata": {
    "colab": {
      "provenance": [],
      "authorship_tag": "ABX9TyPqCIgV3LESLK5E6w4Q91Q9",
      "include_colab_link": true
    },
    "kernelspec": {
      "name": "python3",
      "display_name": "Python 3"
    },
    "language_info": {
      "name": "python"
    }
  },
  "cells": [
    {
      "cell_type": "markdown",
      "metadata": {
        "id": "view-in-github",
        "colab_type": "text"
      },
      "source": [
        "<a href=\"https://colab.research.google.com/github/violjii/ML/blob/main/6_1_Serhiienko_FIT_4_6.ipynb\" target=\"_parent\"><img src=\"https://colab.research.google.com/assets/colab-badge.svg\" alt=\"Open In Colab\"/></a>"
      ]
    },
    {
      "cell_type": "code",
      "execution_count": null,
      "metadata": {
        "id": "GdOwcMn7yM5X"
      },
      "outputs": [],
      "source": [
        "\n",
        "import numpy as np\n",
        "from sklearn.datasets import fetch_california_housing\n",
        "from sklearn.model_selection import train_test_split, GridSearchCV\n",
        "from sklearn.preprocessing import StandardScaler\n",
        "from sklearn.linear_model import LinearRegression, Ridge, Lasso\n",
        "from sklearn.metrics import mean_squared_error, r2_score\n",
        "import matplotlib.pyplot as plt\n",
        "\n",
        "#1\n",
        "data = fetch_california_housing()\n",
        "X, y = data.data, data.target\n",
        "X_train, X_test, y_train, y_test = train_test_split(X, y, test_size=0.2, random_state=42)\n",
        "scaler = StandardScaler()\n",
        "X_train = scaler.fit_transform(X_train)\n",
        "X_test = scaler.transform(X_test)\n",
        "\n",
        "#2\n",
        "model = LinearRegression()\n",
        "model.fit(X_train, y_train)\n",
        "y_pred_train = model.predict(X_train)\n",
        "y_pred_test = model.predict(X_test)\n",
        "train_mse = mean_squared_error(y_train, y_pred_train)\n",
        "test_mse = mean_squared_error(y_test, y_pred_test)\n",
        "train_r2 = r2_score(y_train, y_pred_train)\n",
        "test_r2 = r2_score(y_test, y_pred_test)\n",
        "\n",
        "print(f\"Train MSE: {train_mse}, Test MSE: {test_mse}\")\n",
        "print(f\"Train R^2: {train_r2}, Test R^2: {test_r2}\")\n",
        "\n",
        "#4\n",
        "ridge = Ridge()\n",
        "params_ridge = {'alpha': [0.1, 1, 10, 100]}\n",
        "ridge_cv = GridSearchCV(ridge, params_ridge, cv=5)\n",
        "ridge_cv.fit(X_train, y_train)\n",
        "\n",
        "lasso = Lasso()\n",
        "params_lasso = {'alpha': [0.01, 0.1, 1, 10]}\n",
        "lasso_cv = GridSearchCV(lasso, params_lasso, cv=5)\n",
        "lasso_cv.fit(X_train, y_train)\n",
        "\n",
        "y_pred_ridge = ridge_cv.predict(X_test)\n",
        "y_pred_lasso = lasso_cv.predict(X_test)\n",
        "\n",
        "ridge_mse = mean_squared_error(y_test, y_pred_ridge)\n",
        "lasso_mse = mean_squared_error(y_test, y_pred_lasso)\n",
        "\n",
        "print(f\"Ridge Test MSE: {ridge_mse}\")\n",
        "print(f\"Lasso Test MSE: {lasso_mse}\")\n",
        "\n",
        "#5\n",
        "alphas_ridge = [0.1, 1, 10, 100]\n",
        "mse_ridge = []\n",
        "for alpha in alphas_ridge:\n",
        "    ridge = Ridge(alpha=alpha)\n",
        "    ridge.fit(X_train, y_train)\n",
        "    y_pred = ridge.predict(X_test)\n",
        "    mse_ridge.append(mean_squared_error(y_test, y_pred))\n",
        "\n",
        "plt.plot(alphas_ridge, mse_ridge, label=\"Ridge\")\n",
        "plt.xscale(\"log\")\n",
        "plt.xlabel(\"Alpha\")\n",
        "plt.ylabel(\"Test MSE\")\n",
        "plt.legend()\n",
        "plt.show()"
      ]
    }
  ]
}