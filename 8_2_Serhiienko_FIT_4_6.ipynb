{
  "nbformat": 4,
  "nbformat_minor": 0,
  "metadata": {
    "colab": {
      "provenance": [],
      "authorship_tag": "ABX9TyOETCWPeVz5o68YVK5MM2Id",
      "include_colab_link": true
    },
    "kernelspec": {
      "name": "python3",
      "display_name": "Python 3"
    },
    "language_info": {
      "name": "python"
    }
  },
  "cells": [
    {
      "cell_type": "markdown",
      "metadata": {
        "id": "view-in-github",
        "colab_type": "text"
      },
      "source": [
        "<a href=\"https://colab.research.google.com/github/violjii/ML/blob/main/8_2_Serhiienko_FIT_4_6.ipynb\" target=\"_parent\"><img src=\"https://colab.research.google.com/assets/colab-badge.svg\" alt=\"Open In Colab\"/></a>"
      ]
    },
    {
      "cell_type": "code",
      "execution_count": null,
      "metadata": {
        "id": "_Pz_49kJ16ca"
      },
      "outputs": [],
      "source": [
        "import keras_tuner as kt\n",
        "\n",
        "# 1. Функція для побудови моделі для Keras Tuner\n",
        "def build_model(hp):\n",
        "    model = models.Sequential()\n",
        "    model.add(layers.Flatten(input_shape=(28, 28)))\n",
        "\n",
        "    # Налаштування кількості нейронів у першому шарі\n",
        "    model.add(layers.Dense(units=hp.Int('units', min_value=64, max_value=256, step=32), activation='relu'))\n",
        "    model.add(layers.Dropout(0.3))\n",
        "\n",
        "    # Налаштування кількості нейронів у другому шарі\n",
        "    model.add(layers.Dense(units=hp.Int('units2', min_value=32, max_value=128, step=16), activation='relu'))\n",
        "\n",
        "    model.add(layers.Dense(10, activation='softmax'))\n",
        "\n",
        "    # Налаштування оптимізатора\n",
        "    model.compile(optimizer=hp.Choice('optimizer', values=['adam', 'rmsprop']),\n",
        "                  loss='sparse_categorical_crossentropy',\n",
        "                  metrics=['accuracy'])\n",
        "    return model\n",
        "\n",
        "# 2. Використання Keras Tuner для підбору гіперпараметрів\n",
        "tuner = kt.RandomSearch(build_model, objective='val_accuracy', max_trials=5, overwrite=True)\n",
        "\n",
        "tuner.search(x_train, y_train, epochs=10, validation_data=(x_test, y_test))\n",
        "\n",
        "# Виведення результатів підбору\n",
        "best_model = tuner.get_best_models(1)[0]\n",
        "best_model.summary()\n",
        "\n",
        "# 3. Оцінка моделі\n",
        "best_model.evaluate(x_test, y_test)\n",
        "\n",
        "# Побудова графіків для нової моделі\n",
        "history_best = best_model.fit(x_train, y_train, epochs=30, validation_data=(x_test, y_test),\n",
        "                              callbacks=[early_stop, reduce_lr])\n",
        "\n",
        "plt.figure(figsize=(12, 4))\n",
        "plt.subplot(1, 2, 1)\n",
        "plt.plot(history_best.history['loss'], label='Train Loss')\n",
        "plt.plot(history_best.history['val_loss'], label='Validation Loss')\n",
        "plt.title('Функція втрат (підбір)')\n",
        "plt.legend()\n",
        "\n",
        "plt.subplot(1, 2, 2)\n",
        "plt.plot(history_best.history['accuracy'], label='Train Accuracy')\n",
        "plt.plot(history_best.history['val_accuracy'], label='Validation Accuracy')\n",
        "plt.title('Точність (підбір)')\n",
        "plt.legend()\n",
        "plt.show()\n"
      ]
    }
  ]
}